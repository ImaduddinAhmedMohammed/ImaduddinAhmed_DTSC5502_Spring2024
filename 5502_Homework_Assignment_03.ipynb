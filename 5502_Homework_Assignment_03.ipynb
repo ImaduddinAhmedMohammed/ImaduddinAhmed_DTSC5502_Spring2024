{
  "nbformat": 4,
  "nbformat_minor": 0,
  "metadata": {
    "colab": {
      "provenance": [],
      "authorship_tag": "ABX9TyOzYIJcPf1YaiwmPr7SQLK3",
      "include_colab_link": true
    },
    "kernelspec": {
      "name": "python3",
      "display_name": "Python 3"
    },
    "language_info": {
      "name": "python"
    }
  },
  "cells": [
    {
      "cell_type": "markdown",
      "metadata": {
        "id": "view-in-github",
        "colab_type": "text"
      },
      "source": [
        "<a href=\"https://colab.research.google.com/github/ImaduddinAhmedMohammed/ImaduddinAhmed_DTSC5502_Spring2024/blob/main/5502_Homework_Assignment_03.ipynb\" target=\"_parent\"><img src=\"https://colab.research.google.com/assets/colab-badge.svg\" alt=\"Open In Colab\"/></a>"
      ]
    },
    {
      "cell_type": "code",
      "source": [
        "!pip3 install --user scikit-misc\n"
      ],
      "metadata": {
        "colab": {
          "base_uri": "https://localhost:8080/"
        },
        "id": "0CTri56dEjog",
        "outputId": "c78edf08-ecc3-42d4-a946-7b38a0d55126"
      },
      "execution_count": null,
      "outputs": [
        {
          "output_type": "stream",
          "name": "stdout",
          "text": [
            "Requirement already satisfied: scikit-misc in /root/.local/lib/python3.10/site-packages (0.3.1)\n",
            "Requirement already satisfied: numpy>=1.22.3 in /root/.local/lib/python3.10/site-packages (from scikit-misc) (1.26.4)\n"
          ]
        }
      ]
    },
    {
      "cell_type": "code",
      "execution_count": null,
      "metadata": {
        "colab": {
          "base_uri": "https://localhost:8080/"
        },
        "id": "cpIHDubNB4Iy",
        "outputId": "8f651d1d-9642-4183-dacf-87accf754478"
      },
      "outputs": [
        {
          "output_type": "stream",
          "name": "stdout",
          "text": [
            "OLS Regression Summary:\n",
            "                            OLS Regression Results                            \n",
            "==============================================================================\n",
            "Dep. Variable:                      y   R-squared:                       0.904\n",
            "Model:                            OLS   Adj. R-squared:                  0.882\n",
            "Method:                 Least Squares   F-statistic:                     42.25\n",
            "Date:                Sun, 10 Mar 2024   Prob (F-statistic):           2.66e-05\n",
            "Time:                        22:23:39   Log-Likelihood:                -23.294\n",
            "No. Observations:                  12   AIC:                             52.59\n",
            "Df Residuals:                       9   BIC:                             54.04\n",
            "Df Model:                           2                                         \n",
            "Covariance Type:            nonrobust                                         \n",
            "==============================================================================\n",
            "                 coef    std err          t      P>|t|      [0.025      0.975]\n",
            "------------------------------------------------------------------------------\n",
            "const         -2.2630      1.096     -2.065      0.069      -4.742       0.216\n",
            "x1             1.5497      0.481      3.225      0.010       0.463       2.637\n",
            "x2            -0.2385      0.606     -0.393      0.703      -1.610       1.133\n",
            "==============================================================================\n",
            "Omnibus:                        4.043   Durbin-Watson:                   1.092\n",
            "Prob(Omnibus):                  0.132   Jarque-Bera (JB):                1.208\n",
            "Skew:                           0.151   Prob(JB):                        0.547\n",
            "Kurtosis:                       1.475   Cond. No.                         18.2\n",
            "==============================================================================\n",
            "\n",
            "Notes:\n",
            "[1] Standard Errors assume that the covariance matrix of the errors is correctly specified.\n",
            "\n",
            "WLS Regression Summary:\n",
            "                            WLS Regression Results                            \n",
            "==============================================================================\n",
            "Dep. Variable:                      y   R-squared:                       0.872\n",
            "Model:                            WLS   Adj. R-squared:                  0.843\n",
            "Method:                 Least Squares   F-statistic:                     30.63\n",
            "Date:                Sun, 10 Mar 2024   Prob (F-statistic):           9.63e-05\n",
            "Time:                        22:23:39   Log-Likelihood:                -23.491\n",
            "No. Observations:                  12   AIC:                             52.98\n",
            "Df Residuals:                       9   BIC:                             54.44\n",
            "Df Model:                           2                                         \n",
            "Covariance Type:            nonrobust                                         \n",
            "==============================================================================\n",
            "                 coef    std err          t      P>|t|      [0.025      0.975]\n",
            "------------------------------------------------------------------------------\n",
            "const         -1.2528      0.867     -1.446      0.182      -3.213       0.708\n",
            "x1             0.9573      0.575      1.664      0.130      -0.344       2.259\n",
            "x2             0.2889      0.741      0.390      0.706      -1.387       1.965\n",
            "==============================================================================\n",
            "Omnibus:                        1.792   Durbin-Watson:                   1.726\n",
            "Prob(Omnibus):                  0.408   Jarque-Bera (JB):                1.067\n",
            "Skew:                           0.425   Prob(JB):                        0.587\n",
            "Kurtosis:                       1.813   Cond. No.                         14.3\n",
            "==============================================================================\n",
            "\n",
            "Notes:\n",
            "[1] Standard Errors assume that the covariance matrix of the errors is correctly specified.\n"
          ]
        },
        {
          "output_type": "stream",
          "name": "stderr",
          "text": [
            "/usr/local/lib/python3.10/dist-packages/scipy/stats/_stats_py.py:1806: UserWarning: kurtosistest only valid for n>=20 ... continuing anyway, n=12\n",
            "  warnings.warn(\"kurtosistest only valid for n>=20 ... continuing \"\n",
            "/usr/local/lib/python3.10/dist-packages/scipy/stats/_stats_py.py:1806: UserWarning: kurtosistest only valid for n>=20 ... continuing anyway, n=12\n",
            "  warnings.warn(\"kurtosistest only valid for n>=20 ... continuing \"\n"
          ]
        }
      ],
      "source": [
        "import numpy as np\n",
        "import statsmodels.api as sm\n",
        "from statsmodels.nonparametric.smoothers_lowess import lowess\n",
        "\n",
        "# Example data\n",
        "Y = np.array([1, 0, 1, 4, 3, 2, 5, 6, 9, 13, 15, 16])\n",
        "X1 = np.array([1, 2, 2, 3, 5, 5, 6, 7, 10, 11, 11, 12])\n",
        "X2 = np.array([1, 1, 2, 2, 4, 6, 5, 4, 8, 7, 9, 10])\n",
        "X = sm.add_constant(np.column_stack((X1, X2)))\n",
        "\n",
        "# OLS Regression\n",
        "model_ols = sm.OLS(Y, X).fit()\n",
        "print(\"OLS Regression Summary:\")\n",
        "print(model_ols.summary())\n",
        "\n",
        "# Applying LOWESS for an example of smoothing (not directly for WLS weights)\n",
        "frac = 0.5  # Fraction of data used when estimating each y-value in LOWESS\n",
        "smoothed = lowess(Y, X1, frac=frac)\n",
        "# Plot or use smoothed data as needed; this is purely illustrative\n",
        "\n",
        "# WLS Regression (Hypothetical weights)\n",
        "# In a real scenario, weights might be derived from previous analysis or domain knowledge\n",
        "weights = np.random.rand(len(Y))  # Placeholder: Replace with real weights as applicable\n",
        "model_wls = sm.WLS(Y, X, weights=weights).fit()\n",
        "print(\"\\nWLS Regression Summary:\")\n",
        "print(model_wls.summary())\n",
        "\n"
      ]
    },
    {
      "cell_type": "code",
      "source": [
        "#i) Which of these two have the smallest standard errors?\n",
        "#solution: WLS has the smaller standard error\n",
        "\n",
        "#ii)  Which of these two have the largest adjusted R-squareds?\n",
        "#solution: WLS has larger adjusted error\n",
        "\n",
        "#iii)  Which of these have the smallest observed p-values?\n",
        "#solution: WLS has smaller p-value\n",
        "\n",
        "#iv)  What can you conclude about WLS solution in comparison to the OLS solution?\n",
        "#solution:"
      ],
      "metadata": {
        "id": "UyoN4zUBekLr"
      },
      "execution_count": null,
      "outputs": []
    },
    {
      "cell_type": "code",
      "source": [
        "import numpy as np\n",
        "\n",
        "Y= np.array([ [1],[0],[1],[4],[3],[2],[5],[6],[9],[13],[15],[16] ])\n",
        "X1 = np.array([ 1, 2, 2, 3, 5, 5, 6, 7, 10, 11, 11, 12])\n",
        "X1T = np.transpose(X1)\n",
        "X2 = np.array([1, 1, 2, 2, 4, 6, 5, 4, 8, 7, 9, 10])\n",
        "X2T= np.transpose(X2)\n",
        "\n",
        "D1 = np.column_stack((X1T, Y))\n",
        "D2 = np.column_stack((X2T, Y))\n",
        "\n",
        "mean_centered_data = D1 - np.mean(D1, axis=0)\n",
        "mean_centered_data = D2 - np.mean(D2, axis=0)\n",
        "\n",
        "# Calculate the covariance matrix\n",
        "cov_matrix1 = np.dot(mean_centered_data.T, mean_centered_data) / (len(D1) - 1)\n",
        "cov_matrix2 = np.dot(mean_centered_data.T, mean_centered_data) / (len(D1) - 1)\n",
        "\n",
        "print(\"Covariance matrix for X1 is:\\n\", cov_matrix1)\n",
        "print(\"\\nCovariance matrix for X2 is:\\n\", cov_matrix2)\n"
      ],
      "metadata": {
        "colab": {
          "base_uri": "https://localhost:8080/"
        },
        "id": "_iuGgifChlVe",
        "outputId": "e35a34b6-67c8-497c-ad0b-40a0c1eaa959"
      },
      "execution_count": null,
      "outputs": [
        {
          "output_type": "stream",
          "name": "stdout",
          "text": [
            "Covariance matrix for X1 is:\n",
            " [[ 9.71969697 15.75      ]\n",
            " [15.75       32.20454545]]\n",
            "\n",
            "Covariance matrix for X2 is:\n",
            " [[ 9.71969697 15.75      ]\n",
            " [15.75       32.20454545]]\n"
          ]
        }
      ]
    }
  ]
}