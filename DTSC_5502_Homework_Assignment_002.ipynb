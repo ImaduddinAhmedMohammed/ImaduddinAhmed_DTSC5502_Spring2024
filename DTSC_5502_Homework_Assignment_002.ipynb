{
  "nbformat": 4,
  "nbformat_minor": 0,
  "metadata": {
    "colab": {
      "provenance": [],
      "authorship_tag": "ABX9TyMOKqn/QNBl08uYq7nXJA6v",
      "include_colab_link": true
    },
    "kernelspec": {
      "name": "python3",
      "display_name": "Python 3"
    },
    "language_info": {
      "name": "python"
    }
  },
  "cells": [
    {
      "cell_type": "markdown",
      "metadata": {
        "id": "view-in-github",
        "colab_type": "text"
      },
      "source": [
        "<a href=\"https://colab.research.google.com/github/ImaduddinAhmedMohammed/ImaduddinAhmed_DTSC5502_Spring2024/blob/main/DTSC_5502_Homework_Assignment_002.ipynb\" target=\"_parent\"><img src=\"https://colab.research.google.com/assets/colab-badge.svg\" alt=\"Open In Colab\"/></a>"
      ]
    },
    {
      "cell_type": "code",
      "source": [
        "!pip install numpy"
      ],
      "metadata": {
        "colab": {
          "base_uri": "https://localhost:8080/"
        },
        "id": "GdVTr0vd8sBF",
        "outputId": "3ed3aedf-cea2-4478-d021-ab6e56c90b66"
      },
      "execution_count": 7,
      "outputs": [
        {
          "output_type": "stream",
          "name": "stdout",
          "text": [
            "Requirement already satisfied: numpy in /usr/local/lib/python3.10/dist-packages (1.25.2)\n"
          ]
        }
      ]
    },
    {
      "cell_type": "code",
      "execution_count": 83,
      "metadata": {
        "colab": {
          "base_uri": "https://localhost:8080/"
        },
        "id": "bd_-0Ee_7m0O",
        "outputId": "8e684ec1-088e-4aba-ce6d-c8454f39d8bc"
      },
      "outputs": [
        {
          "output_type": "stream",
          "name": "stdout",
          "text": [
            "Y is:\n",
            "[[ 1]\n",
            " [ 0]\n",
            " [ 1]\n",
            " [ 4]\n",
            " [ 3]\n",
            " [ 2]\n",
            " [ 5]\n",
            " [ 6]\n",
            " [ 9]\n",
            " [13]\n",
            " [15]\n",
            " [16]]\n",
            "\n",
            "(12, 1)\n",
            "\n",
            "X is:\n",
            "\n",
            "[[ 1  1  1]\n",
            " [ 1  2  1]\n",
            " [ 1  2  2]\n",
            " [ 1  3  2]\n",
            " [ 1  5  4]\n",
            " [ 1  5  6]\n",
            " [ 1  6  5]\n",
            " [ 1  7  4]\n",
            " [ 1 10  8]\n",
            " [ 1 11  7]\n",
            " [ 1 11  9]\n",
            " [ 1 12 10]]\n",
            "\n",
            "(12, 3)\n",
            "\n",
            "X Transpose:\n",
            "\n",
            "[[ 1  1  1  1  1  1  1  1  1  1  1  1]\n",
            " [ 1  2  2  3  5  5  6  7 10 11 11 12]\n",
            " [ 1  1  2  2  4  6  5  4  8  7  9 10]]\n",
            "(3, 12)\n",
            "\n",
            "The multiplication of X transpose and X is:\n",
            "\n",
            "[[ 12  75  59]\n",
            " [ 75 639 497]\n",
            " [ 59 497 397]]\n",
            "The shape of XTranspose*X is:\n",
            " (3, 3)\n",
            "\n",
            "\n",
            "The Values of Beta are:\n",
            " [[-2.2630379 ]\n",
            " [ 1.54972927]\n",
            " [-0.2385295 ]]\n",
            "\n",
            "(3, 1)\n",
            "The Value of B0 is:  [-2.2630379]\n",
            "The Value of B1 is:  [1.54972927]\n",
            "The Value of B2 is:  [-0.2385295]\n",
            "\n",
            "The predicted value of Y is: \n",
            " Y_Predicted=[-2.2630379]+[1.54972927]X1+[-0.2385295]X2+ϵ\n",
            "\n",
            "The value of X is: \n",
            " X=[1.54972927]X1+[-0.2385295]X2\n",
            "\n",
            "The predicted value of Y is:\n",
            " Y_predicted=[-2.2630379]+X+ϵ\n"
          ]
        }
      ],
      "source": [
        "import numpy as np\n",
        "Y= np.array([ [1],[0],[1],[4],[3],[2],[5],[6],[9],[13],[15],[16] ])\n",
        "print(\"Y is:\")\n",
        "print(Y)\n",
        "print(\"\")\n",
        "print(Y.shape)\n",
        "print(\"\")\n",
        "X = np.array([ [1,1,1],\n",
        "               [1,2,1],\n",
        "               [1,2,2],\n",
        "               [1,3,2],\n",
        "               [1,5,4],\n",
        "               [1,5,6],\n",
        "               [1,6,5],\n",
        "               [1,7,4],\n",
        "               [1,10,8],\n",
        "               [1,11,7],\n",
        "               [1,11,9],\n",
        "               [1,12,10] ])\n",
        "print(\"X is:\")\n",
        "print(\"\")\n",
        "print(X)\n",
        "print(\"\")\n",
        "print(X.shape)\n",
        "print(\"\")\n",
        "XT=np.transpose(X)\n",
        "print(\"X Transpose:\")\n",
        "print(\"\")\n",
        "print(XT)\n",
        "print(XT.shape)\n",
        "print(\"\")\n",
        "X_new=np.dot(XT,X)\n",
        "print(\"The multiplication of X transpose and X is:\")\n",
        "print('')\n",
        "print(X_new)\n",
        "print(f\"The shape of XTranspose*X is:\\n\",X_new.shape)\n",
        "print('')\n",
        "X_newinv=np.linalg.inv(X_new)\n",
        "print('')\n",
        "B=np.dot(X_newinv,XT)\n",
        "Beta=np.dot(B,Y)\n",
        "print(f\"The Values of Beta are:\\n\",Beta)\n",
        "print('')\n",
        "print(Beta.shape)\n",
        "B0=Beta[0]\n",
        "B1=Beta[1]\n",
        "B2=Beta[2]\n",
        "print(f\"The Value of B0 is: \",B0)\n",
        "print(f\"The Value of B1 is: \",B1)\n",
        "print(f\"The Value of B2 is: \",B2)\n",
        "print(\"\")\n",
        "print(f\"The predicted value of Y is: \\n Y_Predicted=\"+str(B0)+\"+\"+str(B1)+\"X1\"+\"+\"+str(B2)+\"X2+ϵ\")\n",
        "print(\"\")\n",
        "print(f\"The value of X is: \\n X=\"+str(B1)+\"X1\"+\"+\"+str(B2)+\"X2\")\n",
        "print(\"\")\n",
        "print(f\"The predicted value of Y is:\\n Y_predicted=\"+str(B0)+\"+\"+\"X+ϵ\")"
      ]
    },
    {
      "cell_type": "code",
      "source": [],
      "metadata": {
        "id": "F6GWMTIg79N6"
      },
      "execution_count": null,
      "outputs": []
    }
  ]
}